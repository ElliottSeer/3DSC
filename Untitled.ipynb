{
 "cells": [
  {
   "cell_type": "code",
   "execution_count": 2,
   "metadata": {},
   "outputs": [],
   "source": [
    "pixel_num = 0\n",
    "cube_list=[]"
   ]
  },
  {
   "cell_type": "code",
   "execution_count": 29,
   "metadata": {},
   "outputs": [],
   "source": [
    "def addPixel(x, y, z):\n",
    "    pixel_num + 1\n",
    "    cube = []\n",
    "    cube.append([x*0.274, y*0.274, z*1.25]) # 0 1\n",
    "    cube.append([x*0.274 + 0.254, y*0.274, z*1.25]) # x+ 2\n",
    "    cube.append([x*0.274, y*0.274 + 0.254, z*1.25]) # y+ 3\n",
    "    cube.append([x*0.274, y*0.274, z*1.25 + 0.625]) # z+ 4\n",
    "    cube.append([x*0.274 + 0.254, y*0.274 + 0.254, z*1.25]) # xy+ 5\n",
    "    cube.append([x*0.274, y*0.274 + 0.254, z*1.25 + 0.625]) # yz+ 6\n",
    "    cube.append([x*0.274 + 0.254, y*0.274, z*1.25 + 0.625]) # xz+ 7\n",
    "    cube.append([x*0.274 + 0.254, y*0.274 + 0.254, z*1.25 + 0.625]) # xyz+ 8\n",
    "    cube_list.append(cube)"
   ]
  },
  {
   "cell_type": "code",
   "execution_count": 33,
   "metadata": {},
   "outputs": [
    {
     "name": "stdout",
     "output_type": "stream",
     "text": [
      "[[[0.548, 0.548, 2.5], [0.802, 0.548, 2.5], [0.548, 0.802, 2.5], [0.548, 0.548, 3.125], [0.802, 0.802, 2.5], [0.802, 0.802, 3.125], [0.802, 0.548, 3.125], [0.802, 0.802, 3.125]], [[0.548, 0.548, 2.5], [0.802, 0.548, 2.5], [0.548, 0.802, 2.5], [0.548, 0.548, 3.125], [0.802, 0.802, 2.5], [0.802, 0.802, 3.125], [0.802, 0.548, 3.125], [0.802, 0.802, 3.125]], [[0.8220000000000001, 0.8220000000000001, 3.75], [1.076, 0.8220000000000001, 3.75], [0.8220000000000001, 1.076, 3.75], [0.8220000000000001, 0.8220000000000001, 4.375], [1.076, 1.076, 3.75], [1.076, 1.076, 4.375], [1.076, 0.8220000000000001, 4.375], [1.076, 1.076, 4.375]], [[0.548, 0.548, 2.5], [0.802, 0.548, 2.5], [0.548, 0.802, 2.5], [0.548, 0.548, 3.125], [0.802, 0.802, 2.5], [0.548, 0.802, 3.125], [0.802, 0.548, 3.125], [0.802, 0.802, 3.125]], [[0.8220000000000001, 0.8220000000000001, 3.75], [1.076, 0.8220000000000001, 3.75], [0.8220000000000001, 1.076, 3.75], [0.8220000000000001, 0.8220000000000001, 4.375], [1.076, 1.076, 3.75], [0.8220000000000001, 1.076, 4.375], [1.076, 0.8220000000000001, 4.375], [1.076, 1.076, 4.375]], [[0.274, 0.274, 0.0], [0.528, 0.274, 0.0], [0.274, 0.528, 0.0], [0.274, 0.274, 0.625], [0.528, 0.528, 0.0], [0.274, 0.528, 0.625], [0.528, 0.274, 0.625], [0.528, 0.528, 0.625]], [[0.274, 0.274, 1.25], [0.528, 0.274, 1.25], [0.274, 0.528, 1.25], [0.274, 0.274, 1.875], [0.528, 0.528, 1.25], [0.274, 0.528, 1.875], [0.528, 0.274, 1.875], [0.528, 0.528, 1.875]], [[0.548, 0.548, 2.5], [0.802, 0.548, 2.5], [0.548, 0.802, 2.5], [0.548, 0.548, 3.125], [0.802, 0.802, 2.5], [0.548, 0.802, 3.125], [0.802, 0.548, 3.125], [0.802, 0.802, 3.125]], [[0.8220000000000001, 0.8220000000000001, 3.75], [1.076, 0.8220000000000001, 3.75], [0.8220000000000001, 1.076, 3.75], [0.8220000000000001, 0.8220000000000001, 4.375], [1.076, 1.076, 3.75], [0.8220000000000001, 1.076, 4.375], [1.076, 0.8220000000000001, 4.375], [1.076, 1.076, 4.375]]]\n"
     ]
    }
   ],
   "source": [
    "addPixel(1,1,0)\n",
    "addPixel(1,1,1)\n",
    "addPixel(2,2,2)\n",
    "addPixel(3,3,3)\n",
    "print(cube_list)"
   ]
  },
  {
   "cell_type": "raw",
   "metadata": {},
   "source": [
    "(x, y, z) =>\n",
    "pitch x*0.274 y*0.274 z*1.25\n",
    "size  0.254   0.254   0.625\n",
    "\n",
    "x*0.274 y*0.274 z*1.25 x*0.274+0.254 y*0.274+0.254 z*1.25+0.625\n",
    "\n",
    "0 -> x+ -> xy+ -> y+\n",
    "0 -> z+ -> zx+ -> x+\n",
    "0 -> y+ -> zy+ -> z+\n",
    "xyz+ -> zy+ -> z+ -> xz+\n",
    "xyz+ -> zx+ -> x+ -> xy+\n",
    "xyz+ -> xy+ -> y+ -> zy+"
   ]
  },
  {
   "cell_type": "code",
   "execution_count": 49,
   "metadata": {},
   "outputs": [],
   "source": [
    "def genObj():\n",
    "    for cube in cube_list:\n",
    "        for v in cube:\n",
    "            print('v' + ' %.3f' % v[0] + ' %.3f' % v[1] + ' %.3f' % v[2])\n",
    "    for i in range(len(cube_list)):\n",
    "        print('f'+ ' %d' % ((8*i)+1) + ' %d' % ((8*i)+2) + ' %d' % ((8*i)+5) + ' %d' % ((8*i)+3))\n",
    "        print('f'+ ' %d' % ((8*i)+1) + ' %d' % ((8*i)+4) + ' %d' % ((8*i)+7) + ' %d' % ((8*i)+2))\n",
    "        print('f'+ ' %d' % ((8*i)+1) + ' %d' % ((8*i)+3) + ' %d' % ((8*i)+6) + ' %d' % ((8*i)+4))\n",
    "        print('f'+ ' %d' % ((8*i)+8) + ' %d' % ((8*i)+6) + ' %d' % ((8*i)+4) + ' %d' % ((8*i)+7))\n",
    "        print('f'+ ' %d' % ((8*i)+8) + ' %d' % ((8*i)+7) + ' %d' % ((8*i)+2) + ' %d' % ((8*i)+5))\n",
    "        print('f'+ ' %d' % ((8*i)+8) + ' %d' % ((8*i)+5) + ' %d' % ((8*i)+3) + ' %d' % ((8*i)+6))\n",
    "    print('')"
   ]
  },
  {
   "cell_type": "code",
   "execution_count": 47,
   "metadata": {},
   "outputs": [],
   "source": [
    "def genObjFile(name):\n",
    "    with open(name+'.obj', 'w+') as obj:\n",
    "        for cube in cube_list:\n",
    "            for v in cube:\n",
    "                obj.write('v' + ' %.3f' % v[0] + ' %.3f' % v[1] + ' %.3f' % v[2] + '\\n')\n",
    "        for i in range(len(cube_list)):\n",
    "            obj.write('f'+ ' %d' % ((8*i)+1) + ' %d' % ((8*i)+2) + ' %d' % ((8*i)+5) + ' %d' % ((8*i)+3) + '\\n')\n",
    "            obj.write('f'+ ' %d' % ((8*i)+1) + ' %d' % ((8*i)+4) + ' %d' % ((8*i)+7) + ' %d' % ((8*i)+2) + '\\n')\n",
    "            obj.write('f'+ ' %d' % ((8*i)+1) + ' %d' % ((8*i)+3) + ' %d' % ((8*i)+6) + ' %d' % ((8*i)+4) + '\\n')\n",
    "            obj.write('f'+ ' %d' % ((8*i)+8) + ' %d' % ((8*i)+6) + ' %d' % ((8*i)+4) + ' %d' % ((8*i)+7) + '\\n')\n",
    "            obj.write('f'+ ' %d' % ((8*i)+8) + ' %d' % ((8*i)+7) + ' %d' % ((8*i)+2) + ' %d' % ((8*i)+5) + '\\n')\n",
    "            obj.write('f'+ ' %d' % ((8*i)+8) + ' %d' % ((8*i)+5) + ' %d' % ((8*i)+3) + ' %d' % ((8*i)+6) + '\\n')  \n",
    "        obj.close()"
   ]
  },
  {
   "cell_type": "code",
   "execution_count": 48,
   "metadata": {},
   "outputs": [],
   "source": [
    "genObjFile('test')"
   ]
  },
  {
   "cell_type": "code",
   "execution_count": 103,
   "metadata": {},
   "outputs": [],
   "source": [
    "class Obj:\n",
    "    def __init__(self, width, height, depth, data=None, pixel_size=[0.254,0.254,0.625], pixel_pitch=[0.274,0.274,1.250]):\n",
    "        self.width = width\n",
    "        self.height = height\n",
    "        self.depth = depth\n",
    "        if(data == None):\n",
    "            self.data = [0]*self.width*self.height*self.depth\n",
    "        else:\n",
    "            self.setData(data)\n",
    "        self.cube_list = []\n",
    "        \n",
    "    def setData(self, data):\n",
    "        if(len(data) != self.width*self.height*self.depth):\n",
    "            print(\"error size not match\")\n",
    "            return\n",
    "        self.data = data\n",
    "        \n",
    "    def addPixel(self, x, y, z):\n",
    "        cube = []\n",
    "        cube.append([x*0.274, y*0.274, z*1.25]) # 0 1\n",
    "        cube.append([x*0.274 + 0.254, y*0.274, z*1.25]) # x+ 2\n",
    "        cube.append([x*0.274, y*0.274 + 0.254, z*1.25]) # y+ 3\n",
    "        cube.append([x*0.274, y*0.274, z*1.25 + 0.625]) # z+ 4\n",
    "        cube.append([x*0.274 + 0.254, y*0.274 + 0.254, z*1.25]) # xy+ 5\n",
    "        cube.append([x*0.274, y*0.274 + 0.254, z*1.25 + 0.625]) # yz+ 6\n",
    "        cube.append([x*0.274 + 0.254, y*0.274, z*1.25 + 0.625]) # xz+ 7\n",
    "        cube.append([x*0.274 + 0.254, y*0.274 + 0.254, z*1.25 + 0.625]) # xyz+ 8\n",
    "        self.cube_list.append(cube)\n",
    "        \n",
    "    def genCubeList(self):\n",
    "        for z in range(self.depth):\n",
    "            for y in range(self.height):\n",
    "                for x in range(self.width):\n",
    "                    if(self.data[z*self.width*self.height + y*self.width + x] == 1):\n",
    "                        self.addPixel(x,y,z)\n",
    "    \n",
    "    def genObjFile(self, file_name):\n",
    "        self.genCubeList()\n",
    "        with open(file_name+'.obj', 'w+') as obj:\n",
    "            # 生成cube_list先\n",
    "            for cube in self.cube_list:\n",
    "                for v in cube:\n",
    "                    obj.write('v' + ' %.3f' % v[0] + ' %.3f' % v[1] + ' %.3f' % v[2] + '\\n')\n",
    "            for i in range(len(self.cube_list)):\n",
    "                obj.write('f'+ ' %d' % ((8*i)+1) + ' %d' % ((8*i)+2) + ' %d' % ((8*i)+5) + ' %d' % ((8*i)+3) + '\\n')\n",
    "                obj.write('f'+ ' %d' % ((8*i)+1) + ' %d' % ((8*i)+4) + ' %d' % ((8*i)+7) + ' %d' % ((8*i)+2) + '\\n')\n",
    "                obj.write('f'+ ' %d' % ((8*i)+1) + ' %d' % ((8*i)+3) + ' %d' % ((8*i)+6) + ' %d' % ((8*i)+4) + '\\n')\n",
    "                obj.write('f'+ ' %d' % ((8*i)+8) + ' %d' % ((8*i)+6) + ' %d' % ((8*i)+4) + ' %d' % ((8*i)+7) + '\\n')\n",
    "                obj.write('f'+ ' %d' % ((8*i)+8) + ' %d' % ((8*i)+7) + ' %d' % ((8*i)+2) + ' %d' % ((8*i)+5) + '\\n')\n",
    "                obj.write('f'+ ' %d' % ((8*i)+8) + ' %d' % ((8*i)+5) + ' %d' % ((8*i)+3) + ' %d' % ((8*i)+6) + '\\n')  \n",
    "            obj.close()"
   ]
  },
  {
   "cell_type": "code",
   "execution_count": 104,
   "metadata": {},
   "outputs": [],
   "source": [
    "obj = Obj(3,3,3,[0,0,0,0,1,0,0,0,0,0,1,0,1,0,1,0,1,0,0,0,0,0,1,0,0,0,0])"
   ]
  },
  {
   "cell_type": "code",
   "execution_count": 105,
   "metadata": {},
   "outputs": [],
   "source": [
    "obj.genObjFile('333')"
   ]
  },
  {
   "cell_type": "code",
   "execution_count": 106,
   "metadata": {},
   "outputs": [],
   "source": [
    "class PlayGround(Obj):\n",
    "    def __init__(self,width, height, depth, pixel_size, pixel_pitch):\n",
    "        super().__init__(width, height, depth, pixel_size, pixel_pitch)\n",
    "        for x in range(width):\n",
    "            self.addPixel(x,0,0)\n",
    "            self.addPixel(x,height-1,depth-1)\n",
    "            self.addPixel(x,height-1,0)\n",
    "            self.addPixel(x,0,depth-1)\n",
    "        for y in range(height):\n",
    "            self.addPixel(0,y,0)\n",
    "            self.addPixel(width-1,y,depth-1)\n",
    "            self.addPixel(0,y,depth-1)\n",
    "            self.addPixel(width-1,y,0)\n",
    "        for z in range(depth):\n",
    "            self.addPixel(0,0,z)\n",
    "            self.addPixel(width-1,height-1,z)\n",
    "            self.addPixel(0,height-1,z)\n",
    "            self.addPixel(width-1,0,z)\n",
    "            \n",
    "    def drawLine(point0, point1):\n",
    "        # 直线方向向量是(-5,3,6)经过点(4,0,-1),代入对称式得直线方程-(x-4)/5=y/3=(z+1)/6\n",
    "        if(point0.unit != point1.unit):\n",
    "            return\n",
    "        if(point0.unit == 'pixel'):\n",
    "            detla_x = point1.x - point0.x\n",
    "            detla_y = point1.y - point0.y\n",
    "            detla_z = point1.z - point0.z\n",
    "            "
   ]
  },
  {
   "cell_type": "code",
   "execution_count": 107,
   "metadata": {},
   "outputs": [],
   "source": [
    "playground = PlayGround(128,56,16)"
   ]
  },
  {
   "cell_type": "code",
   "execution_count": 108,
   "metadata": {},
   "outputs": [],
   "source": [
    "playground.genObjFile('playground')"
   ]
  },
  {
   "cell_type": "code",
   "execution_count": 109,
   "metadata": {},
   "outputs": [],
   "source": [
    "class Point():\n",
    "    def __init__(self, x, y, z, unit):\n",
    "        self.x = x\n",
    "        self.y = y\n",
    "        self.z = z\n",
    "        self.unit = x=unit"
   ]
  },
  {
   "cell_type": "markdown",
   "metadata": {},
   "source": [
    "# drawLine(point0,point1)\n",
    "Point{\n",
    "x0,y0,z0,\n",
    "unit:pixel/mm\n",
    "}\n",
    "\n",
    "pixel 128/56/16\n",
    "mm 128 000*pitch_x 56 000*pitch_y 16 000*pitch_z  => pixel"
   ]
  }
 ],
 "metadata": {
  "kernelspec": {
   "display_name": "Python 3",
   "language": "python",
   "name": "python3"
  },
  "language_info": {
   "codemirror_mode": {
    "name": "ipython",
    "version": 3
   },
   "file_extension": ".py",
   "mimetype": "text/x-python",
   "name": "python",
   "nbconvert_exporter": "python",
   "pygments_lexer": "ipython3",
   "version": "3.8.3"
  }
 },
 "nbformat": 4,
 "nbformat_minor": 4
}
