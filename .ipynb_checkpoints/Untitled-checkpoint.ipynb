{
 "cells": [
  {
   "cell_type": "code",
   "execution_count": 2,
   "metadata": {},
   "outputs": [],
   "source": [
    "pixel_num = 0\n",
    "cube_list=[]"
   ]
  },
  {
   "cell_type": "code",
   "execution_count": 29,
   "metadata": {},
   "outputs": [],
   "source": [
    "def addPixel(x, y, z):\n",
    "    pixel_num + 1\n",
    "    cube = []\n",
    "    cube.append([x*0.274, y*0.274, z*1.25]) # 0 1\n",
    "    cube.append([x*0.274 + 0.254, y*0.274, z*1.25]) # x+ 2\n",
    "    cube.append([x*0.274, y*0.274 + 0.254, z*1.25]) # y+ 3\n",
    "    cube.append([x*0.274, y*0.274, z*1.25 + 0.625]) # z+ 4\n",
    "    cube.append([x*0.274 + 0.254, y*0.274 + 0.254, z*1.25]) # xy+ 5\n",
    "    cube.append([x*0.274, y*0.274 + 0.254, z*1.25 + 0.625]) # yz+ 6\n",
    "    cube.append([x*0.274 + 0.254, y*0.274, z*1.25 + 0.625]) # xz+ 7\n",
    "    cube.append([x*0.274 + 0.254, y*0.274 + 0.254, z*1.25 + 0.625]) # xyz+ 8\n",
    "    cube_list.append(cube)"
   ]
  },
  {
   "cell_type": "code",
   "execution_count": 33,
   "metadata": {},
   "outputs": [
    {
     "name": "stdout",
     "output_type": "stream",
     "text": [
      "[[[0.548, 0.548, 2.5], [0.802, 0.548, 2.5], [0.548, 0.802, 2.5], [0.548, 0.548, 3.125], [0.802, 0.802, 2.5], [0.802, 0.802, 3.125], [0.802, 0.548, 3.125], [0.802, 0.802, 3.125]], [[0.548, 0.548, 2.5], [0.802, 0.548, 2.5], [0.548, 0.802, 2.5], [0.548, 0.548, 3.125], [0.802, 0.802, 2.5], [0.802, 0.802, 3.125], [0.802, 0.548, 3.125], [0.802, 0.802, 3.125]], [[0.8220000000000001, 0.8220000000000001, 3.75], [1.076, 0.8220000000000001, 3.75], [0.8220000000000001, 1.076, 3.75], [0.8220000000000001, 0.8220000000000001, 4.375], [1.076, 1.076, 3.75], [1.076, 1.076, 4.375], [1.076, 0.8220000000000001, 4.375], [1.076, 1.076, 4.375]], [[0.548, 0.548, 2.5], [0.802, 0.548, 2.5], [0.548, 0.802, 2.5], [0.548, 0.548, 3.125], [0.802, 0.802, 2.5], [0.548, 0.802, 3.125], [0.802, 0.548, 3.125], [0.802, 0.802, 3.125]], [[0.8220000000000001, 0.8220000000000001, 3.75], [1.076, 0.8220000000000001, 3.75], [0.8220000000000001, 1.076, 3.75], [0.8220000000000001, 0.8220000000000001, 4.375], [1.076, 1.076, 3.75], [0.8220000000000001, 1.076, 4.375], [1.076, 0.8220000000000001, 4.375], [1.076, 1.076, 4.375]], [[0.274, 0.274, 0.0], [0.528, 0.274, 0.0], [0.274, 0.528, 0.0], [0.274, 0.274, 0.625], [0.528, 0.528, 0.0], [0.274, 0.528, 0.625], [0.528, 0.274, 0.625], [0.528, 0.528, 0.625]], [[0.274, 0.274, 1.25], [0.528, 0.274, 1.25], [0.274, 0.528, 1.25], [0.274, 0.274, 1.875], [0.528, 0.528, 1.25], [0.274, 0.528, 1.875], [0.528, 0.274, 1.875], [0.528, 0.528, 1.875]], [[0.548, 0.548, 2.5], [0.802, 0.548, 2.5], [0.548, 0.802, 2.5], [0.548, 0.548, 3.125], [0.802, 0.802, 2.5], [0.548, 0.802, 3.125], [0.802, 0.548, 3.125], [0.802, 0.802, 3.125]], [[0.8220000000000001, 0.8220000000000001, 3.75], [1.076, 0.8220000000000001, 3.75], [0.8220000000000001, 1.076, 3.75], [0.8220000000000001, 0.8220000000000001, 4.375], [1.076, 1.076, 3.75], [0.8220000000000001, 1.076, 4.375], [1.076, 0.8220000000000001, 4.375], [1.076, 1.076, 4.375]]]\n"
     ]
    }
   ],
   "source": [
    "addPixel(1,1,0)\n",
    "addPixel(1,1,1)\n",
    "addPixel(2,2,2)\n",
    "addPixel(3,3,3)\n",
    "print(cube_list)"
   ]
  },
  {
   "cell_type": "raw",
   "metadata": {},
   "source": [
    "(x, y, z) =>\n",
    "pitch x*0.274 y*0.274 z*1.25\n",
    "size  0.254   0.254   0.625\n",
    "\n",
    "x*0.274 y*0.274 z*1.25 x*0.274+0.254 y*0.274+0.254 z*1.25+0.625\n",
    "\n",
    "0 -> x+ -> xy+ -> y+\n",
    "0 -> z+ -> zx+ -> x+\n",
    "0 -> y+ -> zy+ -> z+\n",
    "xyz+ -> zy+ -> z+ -> xz+\n",
    "xyz+ -> zx+ -> x+ -> xy+\n",
    "xyz+ -> xy+ -> y+ -> zy+"
   ]
  },
  {
   "cell_type": "code",
   "execution_count": 49,
   "metadata": {},
   "outputs": [],
   "source": [
    "def genObj():\n",
    "    for cube in cube_list:\n",
    "        for v in cube:\n",
    "            print('v' + ' %.3f' % v[0] + ' %.3f' % v[1] + ' %.3f' % v[2])\n",
    "    for i in range(len(cube_list)):\n",
    "        print('f'+ ' %d' % ((8*i)+1) + ' %d' % ((8*i)+2) + ' %d' % ((8*i)+5) + ' %d' % ((8*i)+3))\n",
    "        print('f'+ ' %d' % ((8*i)+1) + ' %d' % ((8*i)+4) + ' %d' % ((8*i)+7) + ' %d' % ((8*i)+2))\n",
    "        print('f'+ ' %d' % ((8*i)+1) + ' %d' % ((8*i)+3) + ' %d' % ((8*i)+6) + ' %d' % ((8*i)+4))\n",
    "        print('f'+ ' %d' % ((8*i)+8) + ' %d' % ((8*i)+6) + ' %d' % ((8*i)+4) + ' %d' % ((8*i)+7))\n",
    "        print('f'+ ' %d' % ((8*i)+8) + ' %d' % ((8*i)+7) + ' %d' % ((8*i)+2) + ' %d' % ((8*i)+5))\n",
    "        print('f'+ ' %d' % ((8*i)+8) + ' %d' % ((8*i)+5) + ' %d' % ((8*i)+3) + ' %d' % ((8*i)+6))\n",
    "    print('')"
   ]
  },
  {
   "cell_type": "code",
   "execution_count": 47,
   "metadata": {},
   "outputs": [],
   "source": [
    "def genObjFile(name):\n",
    "    with open(name+'.obj', 'w+') as obj:\n",
    "        for cube in cube_list:\n",
    "            for v in cube:\n",
    "                obj.write('v' + ' %.3f' % v[0] + ' %.3f' % v[1] + ' %.3f' % v[2] + '\\n')\n",
    "        for i in range(len(cube_list)):\n",
    "            obj.write('f'+ ' %d' % ((8*i)+1) + ' %d' % ((8*i)+2) + ' %d' % ((8*i)+5) + ' %d' % ((8*i)+3) + '\\n')\n",
    "            obj.write('f'+ ' %d' % ((8*i)+1) + ' %d' % ((8*i)+4) + ' %d' % ((8*i)+7) + ' %d' % ((8*i)+2) + '\\n')\n",
    "            obj.write('f'+ ' %d' % ((8*i)+1) + ' %d' % ((8*i)+3) + ' %d' % ((8*i)+6) + ' %d' % ((8*i)+4) + '\\n')\n",
    "            obj.write('f'+ ' %d' % ((8*i)+8) + ' %d' % ((8*i)+6) + ' %d' % ((8*i)+4) + ' %d' % ((8*i)+7) + '\\n')\n",
    "            obj.write('f'+ ' %d' % ((8*i)+8) + ' %d' % ((8*i)+7) + ' %d' % ((8*i)+2) + ' %d' % ((8*i)+5) + '\\n')\n",
    "            obj.write('f'+ ' %d' % ((8*i)+8) + ' %d' % ((8*i)+5) + ' %d' % ((8*i)+3) + ' %d' % ((8*i)+6) + '\\n')  \n",
    "        obj.close()"
   ]
  },
  {
   "cell_type": "code",
   "execution_count": 48,
   "metadata": {},
   "outputs": [],
   "source": [
    "genObjFile('test')"
   ]
  },
  {
   "cell_type": "code",
   "execution_count": 6,
   "metadata": {},
   "outputs": [],
   "source": [
    "class Obj:\n",
    "    def __init__(self, width, height, depth, data=None):\n",
    "        self.width = width\n",
    "        self.height = height\n",
    "        self.depth = depth\n",
    "        if(data == None):\n",
    "            self.data = [0]*self.width*self.height*self.depth\n",
    "        else:\n",
    "            self.setData(data)\n",
    "        self.cube_list = []\n",
    "        \n",
    "    def setData(self, data):\n",
    "        if(len(data) != self.width*self.height*self.depth):\n",
    "            print(\"error size not match\")\n",
    "            return\n",
    "        self.data = data\n",
    "        \n",
    "    def addPixel(self, x, y, z):\n",
    "        if(x >= self.width or x < 0 or y >= self.height or y < 0 or z >= self.depth or z < 0):\n",
    "            return\n",
    "        cube = []\n",
    "        cube.append([x*0.274, y*0.274, z*1.25]) # 0 1\n",
    "        cube.append([x*0.274 + 0.254, y*0.274, z*1.25]) # x+ 2\n",
    "        cube.append([x*0.274, y*0.274 + 0.254, z*1.25]) # y+ 3\n",
    "        cube.append([x*0.274, y*0.274, z*1.25 + 0.625]) # z+ 4\n",
    "        cube.append([x*0.274 + 0.254, y*0.274 + 0.254, z*1.25]) # xy+ 5\n",
    "        cube.append([x*0.274, y*0.274 + 0.254, z*1.25 + 0.625]) # yz+ 6\n",
    "        cube.append([x*0.274 + 0.254, y*0.274, z*1.25 + 0.625]) # xz+ 7\n",
    "        cube.append([x*0.274 + 0.254, y*0.274 + 0.254, z*1.25 + 0.625]) # xyz+ 8\n",
    "        self.cube_list.append(cube)\n",
    "        \n",
    "    def genCubeList(self):\n",
    "        for z in range(self.depth):\n",
    "            for y in range(self.height):\n",
    "                for x in range(self.width):\n",
    "                    if(self.data[z*self.width*self.height + y*self.width + x] == 1):\n",
    "                        self.addPixel(x,y,z)\n",
    "    \n",
    "    def genObjFile(self, file_name):\n",
    "        self.genCubeList()\n",
    "        with open(file_name+'.obj', 'w+') as obj:\n",
    "            # 生成cube_list先\n",
    "            for cube in self.cube_list:\n",
    "                for v in cube:\n",
    "                    obj.write('v' + ' %.3f' % v[0] + ' %.3f' % v[1] + ' %.3f' % v[2] + '\\n')\n",
    "            for i in range(len(self.cube_list)):\n",
    "                obj.write('f'+ ' %d' % ((8*i)+1) + ' %d' % ((8*i)+2) + ' %d' % ((8*i)+5) + ' %d' % ((8*i)+3) + '\\n')\n",
    "                obj.write('f'+ ' %d' % ((8*i)+1) + ' %d' % ((8*i)+4) + ' %d' % ((8*i)+7) + ' %d' % ((8*i)+2) + '\\n')\n",
    "                obj.write('f'+ ' %d' % ((8*i)+1) + ' %d' % ((8*i)+3) + ' %d' % ((8*i)+6) + ' %d' % ((8*i)+4) + '\\n')\n",
    "                obj.write('f'+ ' %d' % ((8*i)+8) + ' %d' % ((8*i)+6) + ' %d' % ((8*i)+4) + ' %d' % ((8*i)+7) + '\\n')\n",
    "                obj.write('f'+ ' %d' % ((8*i)+8) + ' %d' % ((8*i)+7) + ' %d' % ((8*i)+2) + ' %d' % ((8*i)+5) + '\\n')\n",
    "                obj.write('f'+ ' %d' % ((8*i)+8) + ' %d' % ((8*i)+5) + ' %d' % ((8*i)+3) + ' %d' % ((8*i)+6) + '\\n')  \n",
    "            obj.close()"
   ]
  },
  {
   "cell_type": "code",
   "execution_count": 104,
   "metadata": {},
   "outputs": [],
   "source": [
    "obj = Obj(3,3,3,[0,0,0,0,1,0,0,0,0,0,1,0,1,0,1,0,1,0,0,0,0,0,1,0,0,0,0])"
   ]
  },
  {
   "cell_type": "code",
   "execution_count": 105,
   "metadata": {},
   "outputs": [],
   "source": [
    "obj.genObjFile('333')"
   ]
  },
  {
   "cell_type": "code",
   "execution_count": 56,
   "metadata": {},
   "outputs": [],
   "source": [
    "class Point():\n",
    "    def __init__(self, x, y, z, unit):\n",
    "        self.x = x\n",
    "        self.y = y\n",
    "        self.z = z\n",
    "        self.unit = x=unit\n",
    "    def u2m(self):\n",
    "        if self.unit == 'mm':\n",
    "            return\n",
    "        elif self.unit == 'pixel':\n",
    "            return Point(self.x*274,self.y*274,self.z*1250,'mm')\n",
    "        \n",
    "    def u2p(self):\n",
    "        if self.unit == 'pixel':\n",
    "            return\n",
    "        elif self.unit == 'mm':\n",
    "            return Point(self.x//274,self.y//274,self.z//1250,'pixel')"
   ]
  },
  {
   "cell_type": "code",
   "execution_count": 120,
   "metadata": {},
   "outputs": [],
   "source": [
    "class PlayGround(Obj):\n",
    "    def __init__(self,width, height, depth):\n",
    "        super().__init__(width, height, depth)\n",
    "        for x in range(width):\n",
    "            self.addPixel(x,0,0)\n",
    "            self.addPixel(x,height-1,depth-1)\n",
    "            self.addPixel(x,height-1,0)\n",
    "            self.addPixel(x,0,depth-1)\n",
    "        for y in range(height):\n",
    "            self.addPixel(0,y,0)\n",
    "            self.addPixel(width-1,y,depth-1)\n",
    "            self.addPixel(0,y,depth-1)\n",
    "            self.addPixel(width-1,y,0)\n",
    "        for z in range(depth):\n",
    "            self.addPixel(0,0,z)\n",
    "            self.addPixel(width-1,height-1,z)\n",
    "            self.addPixel(0,height-1,z)\n",
    "            self.addPixel(width-1,0,z)\n",
    "            \n",
    "    def _drawLine_piexl(self,point0, point1):\n",
    "        if(point0.unit == 'pixel' and point0.unit == point1.unit):\n",
    "            delta_x = point1.x - point0.x\n",
    "            delta_y = point1.y - point0.y\n",
    "            delta_z = point1.z - point0.z\n",
    "            x_bias = 0\n",
    "            y_bias = 0\n",
    "            z_bias = 0\n",
    "            u_x = point0.x\n",
    "            u_y = point0.y\n",
    "            u_z = point0.z\n",
    "            inc_x = 0\n",
    "            inc_y = 0\n",
    "            inc_z = 0\n",
    "            distance = 0\n",
    "            \n",
    "            if(delta_x > 0):\n",
    "                inc_x = 1\n",
    "            elif(delta_x < 0):\n",
    "                inc_x = -1\n",
    "                delta_x = -delta_x\n",
    "            if(delta_y > 0):\n",
    "                inc_y = 1\n",
    "            elif(delta_y < 0):\n",
    "                inc_y = -1\n",
    "                delta_y = -delta_y\n",
    "            if(delta_z > 0):\n",
    "                inc_z = 1\n",
    "            elif(delta_z < 0):\n",
    "                inc_z = -1\n",
    "                delta_z = -delta_z\n",
    "                \n",
    "            if( delta_x>=delta_y and delta_x>=delta_z):\n",
    "                distance=delta_x\n",
    "            if( delta_y>=delta_x and delta_y>=delta_z):\n",
    "                distance=delta_y\n",
    "            if( delta_z>=delta_y and delta_z>=delta_x):\n",
    "                distance=delta_z\n",
    "                \n",
    "            for t in range(distance+1):\n",
    "                self.addPixel(u_x, u_y, u_z)\n",
    "#                 print(u_x, u_y, u_z)\n",
    "                x_bias += delta_x\n",
    "                y_bias += delta_y\n",
    "                z_bias += delta_z\n",
    "                if(x_bias > distance):\n",
    "                    x_bias -= distance\n",
    "                    u_x += inc_x\n",
    "                if(y_bias > distance):\n",
    "                    y_bias -= distance\n",
    "                    u_y += inc_y\n",
    "                if(z_bias > distance):\n",
    "                    z_bias -= distance\n",
    "                    u_z += inc_z\n",
    "            \n",
    "    def drawLine(self,point0, point1):\n",
    "        # 直线方向向量是(-5,3,6)经过点(4,0,-1),代入对称式得直线方程-(x-4)/5=y/3=(z+1)/6\n",
    "        if(point0.unit != point1.unit):\n",
    "            return\n",
    "        if(point0.unit == 'pixel'):\n",
    "            self._drawLine_piexl(point0,point1)\n",
    "        elif(point0.unit == 'mm'):\n",
    "        # pixel 128/56/16 mm 128 000pitch_x 56 000pitch_y 16 000*pitch_z => pixel\n",
    "            pp0 = point0.u2p()\n",
    "            pp1 = point1.u2p()\n",
    "            self._drawLine_piexl(pp0,pp1)\n",
    "            \n",
    "    def drawCircle(self, center, radius):\n",
    "        a = 0\n",
    "        b = radius\n",
    "        di = 3-(radius<<1)\n",
    "        while(a<=b):\n",
    "            self.addPixel(center.x + a, center.y - b, center.z)\n",
    "            self.addPixel(center.x + a, center.y + b, center.z)\n",
    "            self.addPixel(center.x - a, center.y - b, center.z)\n",
    "            self.addPixel(center.x - a, center.y + b, center.z)\n",
    "            self.addPixel(center.x + b, center.y - a, center.z)\n",
    "            self.addPixel(center.x + b, center.y + a, center.z)\n",
    "            self.addPixel(center.x - b, center.y - a, center.z)\n",
    "            self.addPixel(center.x - b, center.y + a, center.z)\n",
    "            a+=1\n",
    "            if(di<0):\n",
    "                di += 4*a+6\n",
    "            else:\n",
    "                di+=10+4*(a-b);\n",
    "                b-=1\n",
    "                \n",
    "    def _drawCircle(self, center, radius):\n",
    "        xi = 0\n",
    "        yi = radius\n",
    "        delt_i = (xi+1)*(xi+1)+(yi-1)*(yi-1)-radius*radius\n",
    "        alpha = 0\n",
    "        limit = 0\n",
    "        \n",
    "        while(yi>=limit):\n",
    "            self.addPixel(center.x + xi, center.y - yi, center.z)\n",
    "            self.addPixel(center.x + xi, center.y + yi, center.z)\n",
    "            self.addPixel(center.x - xi, center.y - yi, center.z)\n",
    "            self.addPixel(center.x - xi, center.y + yi, center.z)\n",
    "            self.addPixel(center.x + yi, center.y - xi, center.z)\n",
    "            self.addPixel(center.x + yi, center.y + xi, center.z)\n",
    "            self.addPixel(center.x - yi, center.y - xi, center.z)\n",
    "            self.addPixel(center.x - yi, center.y + xi, center.z)\n",
    "            if (delt_i < 0):\n",
    "                alpha = 2 * delt_i + 2 * yi - 1\n",
    "                if (alpha <= 0):\n",
    "                    xi = xi + 1\n",
    "                    delt_i = delt_i + 2 * xi + 1\n",
    "                else:\n",
    "                    xi = xi + 1\n",
    "                    yi = yi - 1\n",
    "                    delt_i = delt_i + 2 * xi - 2 * yi + 2\n",
    "            elif (delt_i > 0):\n",
    "                alpha = 2 * delt_i + 2 * xi - 1\n",
    "                if (alpha <= 0):\n",
    "                    xi = xi + 1\n",
    "                    yi = yi - 1\n",
    "                    delt_i = delt_i + 2 * xi - 2 * yi + 2\n",
    "                else:\n",
    "                    yi = yi - 1\n",
    "                    delt_i = delt_i - 2 * yi + 1\n",
    "            else:\n",
    "                xi = xi + 1\n",
    "                yi = yi - 1\n",
    "                delt_i = delt_i + 2 * xi - 2 * yi + 2\n",
    "        \n",
    "    def drawBall(self,center, radius):\n",
    "        if(center.unit == 'pixel'):\n",
    "            \n",
    "        elif(center.unit == 'mm'):\n"
   ]
  },
  {
   "cell_type": "raw",
   "metadata": {},
   "source": [
    "void LCD_Draw_Circle(u16 x0,u16 y0,u8 r)\n",
    "{\n",
    "        int a,b,x,y;\n",
    "        int di;\n",
    "        a=0;b=r;         \n",
    "        di=3-(r<<1);             //判断下个点位置的标志\n",
    "        while(a<=b)\n",
    "        {\n",
    "                BMP2[x0+a+(y0-b)*128]=1;             //5\n",
    "                 BMP2[x0+b+(y0-a)*128]=1;             //0           \n",
    "                BMP2[x0+b+(y0+a)*128]=1;             //4               \n",
    "                BMP2[x0+a+(y0+b)*128]=1;             //6\n",
    "                BMP2[x0-a+(y0+b)*128]=1;             //1      \n",
    "                 BMP2[x0-b+(y0+a)*128]=1;            \n",
    "                BMP2[x0-a+(y0-b)*128]=1;             //2            \n",
    "          BMP2[x0-b+(y0-a)*128]=1;             //7                     \n",
    "                a++;\n",
    "                //使用Bresenham算法画圆     \n",
    "                if(di<0)di +=4*a+6;         \n",
    "                else\n",
    "                {\n",
    "                        di+=10+4*(a-b);   \n",
    "                        b--;\n",
    "                }                                                     \n",
    "        }\n",
    "}"
   ]
  },
  {
   "cell_type": "code",
   "execution_count": 121,
   "metadata": {},
   "outputs": [],
   "source": [
    "playground = PlayGround(130,58,18)"
   ]
  },
  {
   "cell_type": "code",
   "execution_count": 122,
   "metadata": {},
   "outputs": [],
   "source": [
    "playground.genObjFile('playground')"
   ]
  },
  {
   "cell_type": "code",
   "execution_count": 123,
   "metadata": {},
   "outputs": [],
   "source": [
    "point0 = Point(1,1,1,'pixel')\n",
    "point1 = Point(127,55,15,'pixel')"
   ]
  },
  {
   "cell_type": "markdown",
   "metadata": {},
   "source": [
    "35072 15355 20000"
   ]
  },
  {
   "cell_type": "code",
   "execution_count": 124,
   "metadata": {},
   "outputs": [],
   "source": [
    "point0 = Point(0,0,0,'mm')\n",
    "point1 = Point(0,15000,0,'mm')\n",
    "point2 = Point(0,0,15000,'mm')\n",
    "point3 = Point(15000,15000,0,'mm')\n",
    "point4 = Point(0,15000,15000,'mm')\n",
    "point5 = Point(15000,15000,15000,'mm')"
   ]
  },
  {
   "cell_type": "code",
   "execution_count": 125,
   "metadata": {},
   "outputs": [],
   "source": [
    "playground.drawLine(point0,point1)\n",
    "playground.drawLine(point0,point2)\n",
    "playground.drawLine(point0,point3)\n",
    "playground.drawLine(point0,point4)\n",
    "playground.drawLine(point5,point1)\n",
    "playground.drawLine(point5,point2)\n",
    "playground.drawLine(point5,point3)\n",
    "playground.drawLine(point5,point4)"
   ]
  },
  {
   "cell_type": "code",
   "execution_count": 126,
   "metadata": {},
   "outputs": [],
   "source": [
    "center = Point(60,20,8,'pixel')"
   ]
  },
  {
   "cell_type": "code",
   "execution_count": 129,
   "metadata": {},
   "outputs": [],
   "source": [
    "# playground.drawCircle(center,20)\n",
    "playground._drawCircle(center,20)"
   ]
  },
  {
   "cell_type": "code",
   "execution_count": 130,
   "metadata": {},
   "outputs": [],
   "source": [
    "playground.genObjFile('playground')"
   ]
  },
  {
   "cell_type": "markdown",
   "metadata": {},
   "source": [
    "# drawLine(point0,point1)\n",
    "Point{\n",
    "x0,y0,z0,\n",
    "unit:pixel/mm\n",
    "}\n",
    "\n",
    "pixel 128/56/16\n",
    "mm 128 000*pitch_x 56 000*pitch_y 16 000*pitch_z  => pixel"
   ]
  },
  {
   "cell_type": "code",
   "execution_count": null,
   "metadata": {},
   "outputs": [],
   "source": []
  }
 ],
 "metadata": {
  "kernelspec": {
   "display_name": "Python 3",
   "language": "python",
   "name": "python3"
  },
  "language_info": {
   "codemirror_mode": {
    "name": "ipython",
    "version": 3
   },
   "file_extension": ".py",
   "mimetype": "text/x-python",
   "name": "python",
   "nbconvert_exporter": "python",
   "pygments_lexer": "ipython3",
   "version": "3.8.3"
  }
 },
 "nbformat": 4,
 "nbformat_minor": 4
}
